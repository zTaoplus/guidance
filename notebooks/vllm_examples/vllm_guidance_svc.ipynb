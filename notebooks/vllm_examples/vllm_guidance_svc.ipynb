{
 "cells": [
  {
   "cell_type": "code",
   "execution_count": null,
   "metadata": {
    "tags": []
   },
   "outputs": [],
   "source": [
    "%env LOG_LEVEL=INFO"
   ]
  },
  {
   "cell_type": "code",
   "execution_count": null,
   "metadata": {},
   "outputs": [],
   "source": [
    "import os\n",
    "del os.environ[\"http_proxy\"]\n",
    "del os.environ[\"https_proxy\"]"
   ]
  },
  {
   "cell_type": "code",
   "execution_count": null,
   "metadata": {
    "tags": []
   },
   "outputs": [],
   "source": [
    "\n",
    "import json\n",
    "import time\n",
    "from tqdm import tqdm\n",
    "import numpy as np"
   ]
  },
  {
   "cell_type": "code",
   "execution_count": null,
   "metadata": {},
   "outputs": [],
   "source": [
    "def process_st(dsls):\n",
    "    new_dsls = []\n",
    "    # dsls = json.loads(dsls)\n",
    "    for dsl in dsls:\n",
    "        input = dsl.get(\"input\", [])\n",
    "        command = dsl.get(\"command\", \"\")\n",
    "        command_args = dsl.get(\"command_args\", {})\n",
    "        output = dsl.get(\"output\", [])\n",
    "\n",
    "        input = eval(input)\n",
    "        output = eval(output)\n",
    "        command_args = process_dict(command_args)\n",
    "        for command_arg in command_args:\n",
    "            command_args[command_arg] = process_dict(command_args[command_arg])\n",
    "        dsl[\"input\"] = input\n",
    "        dsl[\"command\"] = command\n",
    "        dsl[\"command_args\"] = command_args\n",
    "        dsl[\"output\"] = output\n",
    "        new_dsls.append(dsl)\n",
    "    return new_dsls\n",
    "\n",
    "def process_dict(command_args):\n",
    "    if isinstance(command_args, dict):\n",
    "        for command_arg in command_args:\n",
    "            try:\n",
    "                if isinstance(eval(command_args[command_arg]), (dict, list, bool)):\n",
    "                    command_args[command_arg] = eval(command_args[command_arg])\n",
    "            except Exception as e:\n",
    "                # print(e)\n",
    "                # print(command_args)\n",
    "                pass\n",
    "    return command_args\n",
    "  "
   ]
  },
  {
   "cell_type": "code",
   "execution_count": null,
   "metadata": {
    "tags": []
   },
   "outputs": [],
   "source": [
    "%load_ext autoreload\n",
    "%autoreload 2\n",
    "from format_template import format_output"
   ]
  },
  {
   "cell_type": "code",
   "execution_count": null,
   "metadata": {},
   "outputs": [],
   "source": [
    "# run using source code \n",
    "# import sys\n",
    "# sys.path.insert(0,\"/home/zt/workspace/guidance_vllm\")"
   ]
  },
  {
   "cell_type": "code",
   "execution_count": null,
   "metadata": {
    "tags": []
   },
   "outputs": [],
   "source": [
    "import guidance_vllm\n",
    "from guidance_vllm.llms import VllmServiceModel"
   ]
  },
  {
   "cell_type": "code",
   "execution_count": null,
   "metadata": {},
   "outputs": [],
   "source": [
    "from guidance_vllm.llms._transformers import set_prefix_pos"
   ]
  },
  {
   "cell_type": "code",
   "execution_count": null,
   "metadata": {
    "tags": []
   },
   "outputs": [],
   "source": [
    "model_path = \"./models/ckpt-st-231115\" # If using svc, this directory only needs to include the tokenizer files"
   ]
  },
  {
   "cell_type": "code",
   "execution_count": null,
   "metadata": {
    "tags": []
   },
   "outputs": [],
   "source": [
    "# if you want to use vllm.LLM loads model\n",
    "# model = VllmModel(model_path)\n",
    "# vllm_mode = \"local\""
   ]
  },
  {
   "cell_type": "code",
   "execution_count": null,
   "metadata": {
    "tags": []
   },
   "outputs": [],
   "source": [
    "# if you want use the vllm svc\n",
    "model = VllmServiceModel(model_path)\n",
    "vllm_mode = \"svc\""
   ]
  },
  {
   "cell_type": "code",
   "execution_count": null,
   "metadata": {
    "tags": []
   },
   "outputs": [],
   "source": [
    "# hacking vllm model device to solve errors\n",
    "model.device = \"cpu\""
   ]
  },
  {
   "cell_type": "code",
   "execution_count": null,
   "metadata": {
    "tags": []
   },
   "outputs": [],
   "source": [
    "llm = guidance_vllm.llms.Transformers(model=model, tokenizer=model.tokenizer,vllm_mode=vllm_mode,acceleration=False)#token_healing=False, )"
   ]
  },
  {
   "cell_type": "code",
   "execution_count": null,
   "metadata": {
    "collapsed": true,
    "jupyter": {
     "outputs_hidden": true
    },
    "tags": []
   },
   "outputs": [],
   "source": [
    "template = format_output()\n",
    "input_template = \"{{description}}\" + template\n",
    "print(input_template)\n",
    "character_maker = guidance_vllm(input_template)"
   ]
  },
  {
   "cell_type": "code",
   "execution_count": null,
   "metadata": {},
   "outputs": [],
   "source": [
    "# results lists\n",
    "result_json = []\n",
    "result_csv = []"
   ]
  },
  {
   "cell_type": "code",
   "execution_count": null,
   "metadata": {
    "tags": []
   },
   "outputs": [],
   "source": [
    "val_data_path = \"data/val_all_st_schema_resample.json\"\n",
    "result_json_path = \"data/result_guidance_vllm_prefix_cache.json\"\n",
    "plot_types = [\"Area\", \"Bar\", \"Line\", \"Barh\", \"Box\", \"Density\", \"Hist\", \"Pie\", \"Scatter\"]\n",
    "with open(val_data_path, \"rb\") as f:\n",
    "    # [:100] [100:180] [180:]\n",
    "    data = json.load(f)\n",
    "    pbar = tqdm(data)\n",
    "    # result_json = []\n",
    "    # result_csv = []\n",
    "    single_command_rst = {}\n",
    "    for val_data in pbar:\n",
    "        llm.cache.clear()\n",
    "        # guidance.llms.cache.clear()\n",
    "        rst_line = {}\n",
    "        inp = val_data[\"prompt\"]\n",
    "        target = val_data[\"response\"]\n",
    "        system_prompt = val_data[\"system\"]\n",
    "        prefix_pos = len(model.tokenizer.encode(system_prompt)) - 1\n",
    "        set_prefix_pos(prefix_pos)\n",
    "        # 以最后一个command为准\n",
    "        target = target.replace(\"⊕\", \"\").replace(\"⊗\", \"\")\n",
    "        target = json.loads(target)\n",
    "        target = process_st(target)\n",
    "        command = target[-1][\"command\"]\n",
    "        if command not in single_command_rst:\n",
    "            single_command_rst[command] = {\"time\": [], \"accuracy\": [], \"numbers\": 0}\n",
    "        # torch.cuda.synchronize()\n",
    "        start = time.time()\n",
    "        outputs = character_maker(\n",
    "            plot_type=plot_types,\n",
    "            description=system_prompt + \"USER: {} ASSISTANT:\".format(inp),\n",
    "            llm=llm,\n",
    "            silent=True,\n",
    "            # log=True,\n",
    "        )\n",
    "\n",
    "        # torch.cuda.synchronize()\n",
    "        end = time.time()\n",
    "        cost_time = round(end - start, 2)\n",
    "        outputs = str(outputs).split(\"ASSISTANT:\")[-1]\n",
    "        outputs = outputs.replace(\"⊕\", \"\").replace(\"⊗\", \"\")\n",
    "        try:\n",
    "            outputs = json.loads(outputs)\n",
    "            outputs = process_st(outputs)\n",
    "\n",
    "            if str(target) == str(outputs):\n",
    "                count = 1\n",
    "                rst_line[\"match\"] = True\n",
    "            else:\n",
    "                count = 0\n",
    "                rst_line[\"match\"] = False\n",
    "            rst_line[\"time\"] = cost_time\n",
    "            rst_line[\"input\"] = inp\n",
    "            rst_line[\"target\"] = target\n",
    "            rst_line[\"pred\"] = outputs\n",
    "            result_json.append(rst_line)\n",
    "        except Exception as e:\n",
    "            print(e)\n",
    "            count = 0\n",
    "            result_json.append(\n",
    "                {\n",
    "                    \"output_data_error\": {\n",
    "                        \"input\": str(inp),\n",
    "                        \"target\": str(target),\n",
    "                        \"pred\": outputs,\n",
    "                    }\n",
    "                }\n",
    "            )\n",
    "\n",
    "        single_command_rst[command][\"time\"].append(cost_time)\n",
    "        single_command_rst[command][\"accuracy\"].append(count)\n",
    "\n",
    "    sum_time = 0\n",
    "    sun_acc = 0\n",
    "    sum_num = 0\n",
    "\n",
    "    for key in single_command_rst:\n",
    "        assert len(single_command_rst[key][\"accuracy\"]) == len(\n",
    "            single_command_rst[key][\"time\"]\n",
    "        )\n",
    "        sum_time += np.sum(single_command_rst[key][\"time\"])\n",
    "        sun_acc += np.sum(single_command_rst[key][\"accuracy\"])\n",
    "        sum_num += len(single_command_rst[key][\"time\"])\n",
    "        single_command_rst[key][\"numbers\"] = len(single_command_rst[key][\"accuracy\"])\n",
    "        single_command_rst[key][\"time\"] = (\n",
    "            str(round(np.mean(single_command_rst[key][\"time\"]), 2)) + \"s\"\n",
    "        )\n",
    "        single_command_rst[key][\"accuracy\"] = round(\n",
    "            np.mean(single_command_rst[key][\"accuracy\"]), 2\n",
    "        )\n",
    "    all_mean_time = round(sum_time / sum_num, 2)\n",
    "    all_mena_acc = round(sun_acc / sum_num, 2)\n",
    "    print(single_command_rst)"
   ]
  },
  {
   "cell_type": "code",
   "execution_count": null,
   "metadata": {
    "tags": []
   },
   "outputs": [],
   "source": [
    "import pandas as pd\n",
    "import csv\n",
    "\n",
    "csv_file_path = \"data/result_guidance_vllm_svc_prefix_cache.csv\"\n",
    "with open(csv_file_path, mode=\"w\", newline=\"\") as file:\n",
    "    writer = csv.writer(file)\n",
    "    writer.writerow([\"Command\", \"Numbers\", \"single_mean_time\", \"single_mean_acc\", \"all_mean_time\", \"all_mean_acc\"])\n",
    "    for key, value in single_command_rst.items():\n",
    "        writer.writerow([key, value[\"numbers\"], value[\"time\"], value[\"accuracy\"], all_mean_time, all_mena_acc])\n",
    "df = pd.read_csv(csv_file_path)\n",
    "sorted_df = df.sort_values(by=\"single_mean_acc\", ascending=False)\n",
    "sorted_df.to_csv(csv_file_path, index=False)\n",
    "\n",
    "with open(result_json_path, 'w', encoding=\"utf-8\") as f3:\n",
    "    f3.write(json.dumps(result_json, ensure_ascii=False, indent=4))"
   ]
  }
 ],
 "metadata": {
  "kernelspec": {
   "display_name": "Python 3 (ipykernel)",
   "language": "python",
   "name": "python3"
  },
  "language_info": {
   "codemirror_mode": {
    "name": "ipython",
    "version": 3
   },
   "file_extension": ".py",
   "mimetype": "text/x-python",
   "name": "python",
   "nbconvert_exporter": "python",
   "pygments_lexer": "ipython3",
   "version": "3.10.12"
  }
 },
 "nbformat": 4,
 "nbformat_minor": 4
}
