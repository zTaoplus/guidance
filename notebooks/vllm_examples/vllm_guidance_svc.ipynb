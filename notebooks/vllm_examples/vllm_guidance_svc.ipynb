{
 "cells": [
  {
   "cell_type": "code",
   "execution_count": 1,
   "metadata": {
    "tags": []
   },
   "outputs": [
    {
     "name": "stdout",
     "output_type": "stream",
     "text": [
      "env: LOG_LEVEL=INFO\n"
     ]
    }
   ],
   "source": [
    "%env LOG_LEVEL=INFO"
   ]
  },
  {
   "cell_type": "code",
   "execution_count": 2,
   "metadata": {
    "tags": []
   },
   "outputs": [],
   "source": [
    "import torch\n",
    "import json\n",
    "import time\n",
    "import csv\n",
    "import random\n",
    "from collections import OrderedDict\n",
    "from tqdm import tqdm\n",
    "import numpy as np"
   ]
  },
  {
   "cell_type": "code",
   "execution_count": null,
   "metadata": {},
   "outputs": [],
   "source": [
    "def process_st(dsls):\n",
    "    new_dsls = []\n",
    "    # dsls = json.loads(dsls)\n",
    "    for dsl in dsls:\n",
    "        input = dsl.get(\"input\", [])\n",
    "        command = dsl.get(\"command\", \"\")\n",
    "        command_args = dsl.get(\"command_args\", {})\n",
    "        output = dsl.get(\"output\", [])\n",
    "\n",
    "        input = eval(input)\n",
    "        output = eval(output)\n",
    "        command_args = process_dict(command_args)\n",
    "        for command_arg in command_args:\n",
    "            command_args[command_arg] = process_dict(command_args[command_arg])\n",
    "        dsl[\"input\"] = input\n",
    "        dsl[\"command\"] = command\n",
    "        dsl[\"command_args\"] = command_args\n",
    "        dsl[\"output\"] = output\n",
    "        new_dsls.append(dsl)\n",
    "    return new_dsls\n",
    "\n",
    "def process_dict(command_args):\n",
    "    if isinstance(command_args, dict):\n",
    "        for command_arg in command_args:\n",
    "            try:\n",
    "                if isinstance(eval(command_args[command_arg]), (dict, list, bool)):\n",
    "                    command_args[command_arg] = eval(command_args[command_arg])\n",
    "            except Exception as e:\n",
    "                # print(e)\n",
    "                # print(command_args)\n",
    "                pass\n",
    "    return command_args\n",
    "  "
   ]
  },
  {
   "cell_type": "code",
   "execution_count": 3,
   "metadata": {
    "tags": []
   },
   "outputs": [],
   "source": [
    "%load_ext autoreload\n",
    "%autoreload 2\n",
    "from format_template import format_output, trim"
   ]
  },
  {
   "cell_type": "code",
   "execution_count": 4,
   "metadata": {
    "tags": []
   },
   "outputs": [],
   "source": [
    "import guidance_vllm\n",
    "from guidance_vllm.llms import VllmServiceModel,VllmModel"
   ]
  },
  {
   "cell_type": "code",
   "execution_count": 5,
   "metadata": {
    "tags": []
   },
   "outputs": [],
   "source": [
    "model_path = \"./models/ckpt-st-231115\""
   ]
  },
  {
   "cell_type": "code",
   "execution_count": 6,
   "metadata": {
    "tags": []
   },
   "outputs": [
    {
     "name": "stdout",
     "output_type": "stream",
     "text": [
      "INFO 11-20 07:23:16 llm_engine.py:72] Initializing an LLM engine with config: model='./models/ckpt-st-231115', tokenizer='./models/ckpt-st-231115', tokenizer_mode=auto, revision=None, tokenizer_revision=None, trust_remote_code=False, dtype=torch.bfloat16, max_seq_len=4096, download_dir=None, load_format=auto, tensor_parallel_size=1, quantization=None, seed=0)\n",
      "INFO 11-20 07:23:40 llm_engine.py:207] # GPU blocks: 883, # CPU blocks: 327\n"
     ]
    }
   ],
   "source": [
    "# if you want to use vllm.LLM loads model\n",
    "model = VllmModel(model_path)\n",
    "vllm_mode = \"local\""
   ]
  },
  {
   "cell_type": "code",
   "execution_count": 7,
   "metadata": {
    "tags": []
   },
   "outputs": [],
   "source": [
    "# if you want use the vllm svc\n",
    "#model = VllmServiceModel(model_path)\n",
    "# vllm_mode = \"svc\""
   ]
  },
  {
   "cell_type": "code",
   "execution_count": 8,
   "metadata": {
    "tags": []
   },
   "outputs": [],
   "source": [
    "# hacking vllm model device to solve errors\n",
    "model.device = \"cuda:0\""
   ]
  },
  {
   "cell_type": "code",
   "execution_count": 9,
   "metadata": {
    "tags": []
   },
   "outputs": [],
   "source": [
    "llm = guidance_vllm.llms.Transformers(model=model, tokenizer=model.tokenizer,vllm_mode=vllm_mode,acceleration=False)#token_healing=False, )"
   ]
  },
  {
   "cell_type": "code",
   "execution_count": 10,
   "metadata": {
    "collapsed": true,
    "jupyter": {
     "outputs_hidden": true
    },
    "tags": []
   },
   "outputs": [
    {
     "name": "stdout",
     "output_type": "stream",
     "text": [
      "{{description}}[{{~#geneach 'dsl' join=', ' stop=\"]\"}}{\"input\": \"⊕{{~gen \"this.input\" temperature=0.01 stop='⊗'}}⊗\",\"command\": \"⊕{{~gen \"this.command\" temperature=0.01 stop='⊗'}}⊗\",{{~#if contains(this.command, \"GroupbyAgg\")}}\"command_args\":{\"by\": \"⊕{{~gen \"this.by\" temperature=0.01 stop='⊗'}}⊗\",\"agg_args\": \"⊕{{~gen \"this.agg_args\" temperature=0.01 stop='⊗'}}⊗\"},{{~/if}}{{~#if contains(this.command, \"GroupbyTransform\")}}\"command_args\":{\"by\": \"⊕{{~gen \"this.by\" temperature=0.01 stop='⊗'}}⊗\",\"transform_args\": {\"transform_cols\": \"⊕{{~gen \"this.transfrom_cols\" temperature=0.01 stop='⊗'}}⊗\",\"transform_type\": \"⊕{{~gen \"this.function_name\" temperature=0.01 stop='⊗'}}⊗\"},\"replace\": \"⊕{{~gen \"this.replace\" temperature=0.01 stop='⊗'}}⊗\",\"new_cols\": \"⊕{{~gen \"this.new_cols\" temperature=0.01 stop='⊗'}}⊗\"},{{~/if}}{{~#if contains(this.command, \"FeatureTransAgg\")}}\"command_args\":{\"agg_args\": \"⊕{{~gen \"this.agg_args\" temperature=0.01 stop='⊗'}}⊗\",\"new_cols\": \"⊕{{~gen \"this.new_cols\" temperature=0.01 stop='⊗'}}⊗\"},{{~/if}}{{~#if contains(this.command, \"FeatureTransClip\")}}\"command_args\":{\"columns\": \"⊕{{~gen \"this.columns\" temperature=0.01 stop='⊗'}}⊗\",\"lower\": \"⊕{{~gen \"this.lower\" temperature=0.01 stop='⊗'}}⊗\",\"upper\": \"⊕{{~gen \"this.upper\" temperature=0.01 stop='⊗'}}⊗\",\"replace\": \"⊕{{~gen \"this.replace\" temperature=0.01 stop='⊗'}}⊗\",\"new_cols\": \"⊕{{~gen \"this.new_cols\" temperature=0.01 stop='⊗'}}⊗\"},{{~/if}}{{~#if contains(this.command, \"DropDuplicates\")}}\"command_args\":{\"subset\": \"⊕{{~gen \"this.subset\" temperature=0.01 stop='⊗'}}⊗\",\"keep\": \"⊕{{~gen \"this.keep\" temperature=0.01 stop='⊗'}}⊗\",\"subset_only\": \"⊕{{~gen \"this.subset_only\" temperature=0.01 stop='⊗'}}⊗\"},{{~/if}}{{~#if contains(this.command, \"Dropna\")}}\"command_args\":{\"axis\": \"⊕{{~gen \"this.subset\" temperature=0.01 stop='⊗'}}⊗\",\"how\": \"⊕{{~gen \"this.subset\" temperature=0.01 stop='⊗'}}⊗\",\"subset\": \"⊕{{~gen \"this.subset\" temperature=0.01 stop='⊗'}}⊗\"},{{~/if}}{{~#if contains(this.command, \"Replace\")}}\"command_args\":{\"columns\": \"⊕{{~gen \"this.columns\" temperature=0.01 stop='⊗'}}⊗\",\"index\": \"⊕{{~gen \"this.index\" temperature=0.01 stop='⊗'}}⊗\",\"replace_value\": \"⊕{{~gen \"this.replace_value\" temperature=0.01 stop='⊗'}}⊗\",\"bool_args\": \"⊕{{~gen \"this.bool_args\" temperature=0.01 stop='⊗'}}⊗\"},{{~/if}}{{~#if contains(this.command, \"Fillna\")}}\"command_args\":{\"fill_value\": \"⊕{{~gen \"this.fill_value\" temperature=1.0 stop='⊗'}}⊗\",\"columns\": \"⊕{{~gen \"this.columns\" temperature=0.01 stop='⊗'}}⊗\",\"method\": \"⊕{{~gen \"this.method\" temperature=0.01 stop='⊗'}}⊗\",\"axis\": \"⊕{{~gen \"this.axis\" temperature=0.01 stop='⊗'}}⊗\"},{{~/if}}{{~#if contains(this.command, \"Rename\")}}\"command_args\": {\"columns_rename\": \"⊕{{~gen \"this.columns_rename\" temperature=0.01 stop='⊗'}}⊗\",\"index_rename\": \"⊕{{~gen \"this.index_rename\" temperature=0.01 stop='⊗'}}⊗\"},  {{~/if}}{{~#if contains(this.command, \"SortValues\")}}\"command_args\":{\"by\": \"⊕{{~gen \"this.by\" temperature=0.1 stop='⊗'}}⊗\",\"ascending\": \"⊕{{~gen \"this.ascending\" temperature=0.01 stop='⊗'}}⊗\"},  {{~/if}}   {{~#if contains(this.command, \"Filter\")}}\"command_args\": {\"bool_args\": \"⊕{{~gen \"this.bool_args\" temperature=0.01 stop='⊗'}}⊗\",\"columns\": \"⊕{{~gen \"this.columns\" temperature=0.01 stop='⊗'}}⊗\",\"index\": \"⊕{{~gen \"this.index\" temperature=0.01 stop='⊗'}}⊗\",\"axis\": \"⊕{{~gen \"this.axis\" temperature=0.01 stop='⊗'}}⊗\",\"slice\": \"⊕{{~gen \"this.slice\" temperature=0.01 stop='⊗'}}⊗\",\"type\": \"⊕{{~gen \"this.type\" temperature=0.01 stop='⊗'}}⊗\"},{{~/if}}{{~#if contains(this.command, \"FourOperation\")}}\"command_args\":{\"value\": \"⊕{{~gen \"this.value\" temperature=0.01 stop='⊗'}}⊗\",\"columns\": \"⊕{{~gen \"this.columns\" temperature=0.01 stop='⊗'}}⊗\",\"index\": \"⊕{{~gen \"this.index\" temperature=0.01 stop='⊗'}}⊗\",\"operation_type\": \"⊕{{~gen \"this.operation_type\" temperature=0.01 stop='⊗'}}⊗\",\"new_cols\": \"⊕{{~gen \"this.new_cols\" temperature=0.01 stop='⊗'}}⊗\"},{{~/if}}{{~#if contains(this.command, \"StaticsColumn\")}}\"command_args\": {\"aggregate\": \"⊕{{~gen \"this.aggregate\" temperature=0.01 stop='⊗'}}⊗\",\"is_index\": \"⊕{{~gen \"this.is_index\" temperature=0.01 stop='⊗'}}⊗\"},{{~/if}}{{~#if contains(this.command, \"StaticsRow\")}}\"command_args\": {\"columns\": \"⊕{{~gen \"this.columns\" temperature=0.01 stop='⊗'}}⊗\",\"index\": \"⊕{{~gen \"this.index\" temperature=0.01 stop='⊗\"'}}⊗\",\"slice\": \"⊕{{~gen \"this.slice\" temperature=0.01 stop='⊗'}}⊗\",\"statistic_type\": \"⊕{{~gen \"this.statistic_type\" temperature=0.01 stop='⊗'}}⊗\"},  {{~/if}}{{~#if contains(this.command, \"Quantile\")}}\"command_args\": {\"columns\": \"⊕{{~gen \"this.columns\" temperature=0.01 stop='⊗'}}⊗\",\"index\": \"⊕{{~gen \"this.index\" temperature=0.01 stop='⊗'}}⊗\",\"slice\": \"⊕{{~gen \"this.slice\" temperature=0.01 stop='⊗'}}⊗\",\"quantile\": \"⊕{{~gen \"this.quantile\" temperature=0.01 stop='⊗'}}⊗\"},{{~/if}} {{~#if contains(this.command, \"Shape\")}}\"command_args\": {\"type\": \"⊕{{~gen \"this.type\" temperature=0.01 stop='⊗'}}⊗\"},{{~/if}}{{~#if contains(this.command, \"Join\")}}\"command_args\": {\"ons\": \"⊕{{~gen \"this.ons\" temperature=0.01 stop='⊗'}}⊗\",\"how\": \"⊕{{~gen \"this.how\" temperature=0.01 stop='⊗'}}⊗\"},{{~/if}}{{~#if contains(this.command, \"Concat\")}}\"command_args\":{\"axis\": \"⊕{{~gen \"this.axis\" temperature=0.01 stop='⊗'}}⊗\",\"join\": \"⊕{{~gen \"this.join\" temperature=0.01 stop='⊗'}}⊗\",\"ignore_index\": \"⊕{{~gen \"this.ignore_index\" temperature=0.01 stop='⊗'}}⊗\"},{{~/if}}{{~#if contains(this.command, \"Rolling\")}}\"command_args\":{\"columns\":\"⊕{{~gen \"this.columns\" temperature=0.01 stop='⊗'}}⊗\",\"agg\": \"⊕{{~gen \"this.agg\" temperature=0.01 stop='⊗'}}⊗\",\"windows\": \"⊕{{~gen \"this.windows\" temperature=0.01 stop='⊗'}}⊗\",\"on\": \"⊕{{~gen \"this.on\" temperature=0.01 stop='⊗'}}⊗\"},{{~/if}}{{~#if contains(this.command, \"Resample\")}}\"command_args\":{\"time_columns\": \"⊕{{~gen \"this.time_columns\" temperature=0.01 stop='⊗'}}⊗\",\"columns\": \"⊕{{~gen \"this.columns\" temperature=0.01 stop='⊗'}}⊗\",\"how\": \"⊕{{~gen \"this.how\" temperature=0.01 stop='⊗'}}⊗\",\"freq\": \"⊕{{~gen \"this.freq\" temperature=0.01 stop='⊗'}}⊗\"},{{~/if}}{{~#if contains(this.command, \"TimeInterval\")}}\"command_args\":{\"columns\": \"⊕{{~gen \"this.columns\" temperature=0.01 stop='⊗'}}⊗\",\"period\": \"⊕{{~gen \"this.period\" temperature=0.01 stop='⊗'}}⊗\",\"period_number\": \"⊕{{~gen \"this.period_number\" temperature=0.01 stop='⊗'}}⊗\",\"get_current_date\": \"⊕{{~gen \"this.get_current_date\" temperature=0.01 stop='⊗'}}⊗\",\"known_time\": \"⊕{{~gen \"this.known_time\" temperature=0.01 stop='⊗'}}⊗\"},{{~/if}}{{~#each plot_type item_name=\"plot_name\"}}{{~#if contains(this.command, plot_name)}}\"command_args\": {\"x\": \"⊕{{~gen \"this.x\" temperature=0.01 stop='⊗'}}⊗\",\"y\": \"⊕{{~gen \"this.y\" temperature=0.01 stop='⊗'}}⊗\",\"transpose\": \"⊕{{~gen \"this.transpose\" temperature=0.01 stop='⊗'}}⊗\"},{{~/if}}{{~/each}}\"output\": \"⊕{{~gen \"this.output\" temperature=0.01 stop='⊗'}}⊗\"}{{~/geneach}}]\n"
     ]
    }
   ],
   "source": [
    "template = format_output()\n",
    "input_template = \"{{description}}\" + template\n",
    "print(input_template)\n",
    "character_maker = guidance_vllm(input_template)"
   ]
  },
  {
   "cell_type": "code",
   "execution_count": 15,
   "metadata": {
    "tags": []
   },
   "outputs": [
    {
     "name": "stderr",
     "output_type": "stream",
     "text": [
      "  0%|          | 0/282 [00:09<?, ?it/s]"
     ]
    },
    {
     "name": "stdout",
     "output_type": "stream",
     "text": [
      "{'Filter': {'time': '9.85s', 'accuracy': 0.0, 'numbers': 1}}\n"
     ]
    },
    {
     "name": "stderr",
     "output_type": "stream",
     "text": [
      "\n"
     ]
    }
   ],
   "source": [
    "val_data_path = \"val_data/val_all_st_schema_resample.json\"\n",
    "# csv_file_path = \"val_data/zt-test/result_guidance_vllm.csv\"\n",
    "result_json_path = \"val_data/zt-test/result_guidance_vllm.json\"\n",
    "plot_types = [\"Area\",\"Bar\",\"Line\",\"Barh\",\"Box\",\"Density\",\"Hist\",\"Pie\",\"Scatter\"]\n",
    "with open(val_data_path, \"rb\") as f:\n",
    "    data = json.load(f)\n",
    "    pbar = tqdm(data)\n",
    "    result_json = []\n",
    "    result_csv = []\n",
    "    single_command_rst = {}\n",
    "    for val_data in pbar:\n",
    "        llm.cache.clear()\n",
    "        # guidance.llms.cache.clear()\n",
    "        rst_line = {}\n",
    "        inp = val_data[\"prompt\"]\n",
    "        target = val_data[\"response\"]\n",
    "        system_prompt = val_data[\"system\"]\n",
    "        #以最后一个command为准\n",
    "        target = target.replace(\"⊕\", \"\").replace(\"⊗\", \"\")\n",
    "        target = json.loads(target)\n",
    "        target = process_st(target)\n",
    "        command = target[-1][\"command\"]\n",
    "        if command not in single_command_rst:\n",
    "            single_command_rst[command] = {\"time\":[], \"accuracy\":[], \"numbers\":0}\n",
    "        # torch.cuda.synchronize()\n",
    "        start = time.time()\n",
    "        outputs = character_maker(plot_type=plot_types, description=system_prompt+\"USER: {} ASSISTANT:\".format(inp), llm=llm,silent=True)\n",
    "        \n",
    "        # torch.cuda.synchronize()\n",
    "        end = time.time()\n",
    "        cost_time = round(end-start, 2)\n",
    "        outputs = str(outputs).split(\"ASSISTANT:\")[-1]\n",
    "        outputs = outputs.replace(\"⊕\", \"\").replace(\"⊗\", \"\")\n",
    "        try:\n",
    "            outputs = json.loads(outputs)\n",
    "            outputs = process_st(outputs)\n",
    "           \n",
    "            if str(target) == str(outputs):\n",
    "                count = 1\n",
    "                rst_line[\"match\"] = True\n",
    "            else:\n",
    "                count = 0\n",
    "                rst_line[\"match\"] = False\n",
    "            rst_line[\"time\"] = cost_time\n",
    "            rst_line[\"input\"] = inp\n",
    "            rst_line[\"target\"] = target\n",
    "            rst_line[\"pred\"] = outputs\n",
    "            result_json.append(rst_line)\n",
    "        except Exception as e:\n",
    "            print(e)\n",
    "            count = 0\n",
    "            result_json.append({\"output_data_error\": {\"input\":str(inp), \"target\":str(target), \"pred\":outputs}})\n",
    "          \n",
    "        single_command_rst[command][\"time\"].append(cost_time)\n",
    "        single_command_rst[command][\"accuracy\"].append(count)\n",
    "        \n",
    "    sum_time = 0\n",
    "    sun_acc = 0\n",
    "    sum_num = 0\n",
    "    \n",
    "    for key in single_command_rst:\n",
    "        assert len(single_command_rst[key][\"accuracy\"]) == len(single_command_rst[key][\"time\"])\n",
    "        sum_time += np.sum(single_command_rst[key][\"time\"])\n",
    "        sun_acc += np.sum(single_command_rst[key][\"accuracy\"])\n",
    "        sum_num += len(single_command_rst[key][\"time\"])\n",
    "        single_command_rst[key][\"numbers\"] = len(single_command_rst[key][\"accuracy\"])\n",
    "        single_command_rst[key][\"time\"] = str(round(np.mean(single_command_rst[key][\"time\"]), 2))+\"s\"\n",
    "        single_command_rst[key][\"accuracy\"] = round(np.mean(single_command_rst[key][\"accuracy\"]), 2)\n",
    "    all_mean_time = round(sum_time/sum_num, 2)\n",
    "    all_mena_acc  = round(sun_acc/sum_num, 2)\n",
    "    print(single_command_rst)\n",
    "        \n",
    "   "
   ]
  },
  {
   "cell_type": "code",
   "execution_count": 25,
   "metadata": {
    "tags": []
   },
   "outputs": [],
   "source": [
    "import pandas as pd\n",
    "\n",
    "# csv_file_path = \"val_data/zt-test/result_guidance_vllm_svc_no_healing.csv\"\n",
    "# with open(csv_file_path, mode=\"w\", newline=\"\") as file:\n",
    "#     writer = csv.writer(file)\n",
    "#     writer.writerow([\"Command\", \"Numbers\", \"single_mean_time\", \"single_mean_acc\", \"all_mean_time\", \"all_mean_acc\"])\n",
    "#     for key, value in single_command_rst.items():\n",
    "#         writer.writerow([key, value[\"numbers\"], value[\"time\"], value[\"accuracy\"], all_mean_time, all_mena_acc])\n",
    "# df = pd.read_csv(csv_file_path)\n",
    "# sorted_df = df.sort_values(by=\"single_mean_acc\", ascending=False)\n",
    "# sorted_df.to_csv(csv_file_path, index=False)\n",
    "\n",
    "with open(result_json_path, 'w', encoding=\"utf-8\") as f3:\n",
    "    f3.write(json.dumps(result_json, ensure_ascii=False, indent=4))"
   ]
  },
  {
   "cell_type": "code",
   "execution_count": null,
   "metadata": {},
   "outputs": [],
   "source": []
  }
 ],
 "metadata": {
  "kernelspec": {
   "display_name": "Python 3 (ipykernel)",
   "language": "python",
   "name": "python3"
  },
  "language_info": {
   "codemirror_mode": {
    "name": "ipython",
    "version": 3
   },
   "file_extension": ".py",
   "mimetype": "text/x-python",
   "name": "python",
   "nbconvert_exporter": "python",
   "pygments_lexer": "ipython3",
   "version": "3.10.9"
  }
 },
 "nbformat": 4,
 "nbformat_minor": 4
}
